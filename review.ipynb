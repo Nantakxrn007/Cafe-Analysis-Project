{
 "cells": [
  {
   "cell_type": "code",
   "execution_count": 1,
   "id": "51673c25",
   "metadata": {},
   "outputs": [],
   "source": [
    "import pandas as pd"
   ]
  },
  {
   "cell_type": "code",
   "execution_count": null,
   "id": "a04e5dfc",
   "metadata": {},
   "outputs": [
    {
     "name": "stderr",
     "output_type": "stream",
     "text": [
      "d:\\mini\\envs\\pine\\Lib\\site-packages\\tqdm\\auto.py:21: TqdmWarning: IProgress not found. Please update jupyter and ipywidgets. See https://ipywidgets.readthedocs.io/en/stable/user_install.html\n",
      "  from .autonotebook import tqdm as notebook_tqdm\n"
     ]
    }
   ],
   "source": [
    "from transformers import AutoTokenizer, AutoModelForSequenceClassification\n",
    "import torch\n",
    "import torch.nn.functional as F #take a long time "
   ]
  },
  {
   "cell_type": "code",
   "execution_count": 121,
   "id": "50443efa",
   "metadata": {},
   "outputs": [
    {
     "name": "stderr",
     "output_type": "stream",
     "text": [
      "<>:1: SyntaxWarning: invalid escape sequence '\\d'\n",
      "<>:2: SyntaxWarning: invalid escape sequence '\\d'\n",
      "<>:3: SyntaxWarning: invalid escape sequence '\\d'\n",
      "<>:1: SyntaxWarning: invalid escape sequence '\\d'\n",
      "<>:2: SyntaxWarning: invalid escape sequence '\\d'\n",
      "<>:3: SyntaxWarning: invalid escape sequence '\\d'\n",
      "C:\\Users\\eieiz\\AppData\\Local\\Temp\\ipykernel_10360\\2527533981.py:1: SyntaxWarning: invalid escape sequence '\\d'\n",
      "  df_1_review = pd.read_csv('โซน หลักหก\\df_review_combined.csv')\n",
      "C:\\Users\\eieiz\\AppData\\Local\\Temp\\ipykernel_10360\\2527533981.py:2: SyntaxWarning: invalid escape sequence '\\d'\n",
      "  df_2_review = pd.read_csv('โซน รังสิต\\df_review_combined3.csv')\n",
      "C:\\Users\\eieiz\\AppData\\Local\\Temp\\ipykernel_10360\\2527533981.py:3: SyntaxWarning: invalid escape sequence '\\d'\n",
      "  df_3_review = pd.read_csv('โซน คลองหนึ่ง\\df_review_combined2.csv')\n"
     ]
    }
   ],
   "source": [
    "df_1_review = pd.read_csv('โซน หลักหก\\df_review_combined.csv')\n",
    "df_2_review = pd.read_csv('โซน รังสิต\\df_review_combined3.csv')\n",
    "df_3_review = pd.read_csv('โซน คลองหนึ่ง\\df_review_combined2.csv')"
   ]
  },
  {
   "cell_type": "markdown",
   "id": "eeafe981",
   "metadata": {},
   "source": [
    "https://huggingface.co/poom-sci/WangchanBERTa-finetuned-sentiment"
   ]
  },
  {
   "cell_type": "code",
   "execution_count": 107,
   "id": "cd07dee0",
   "metadata": {},
   "outputs": [],
   "source": [
    "import numpy as np"
   ]
  },
  {
   "cell_type": "code",
   "execution_count": 102,
   "id": "9fe4d8c6",
   "metadata": {},
   "outputs": [],
   "source": [
    "from transformers import pipeline"
   ]
  },
  {
   "cell_type": "code",
   "execution_count": 104,
   "id": "7bd220ee",
   "metadata": {},
   "outputs": [
    {
     "name": "stderr",
     "output_type": "stream",
     "text": [
      "Device set to use cuda:0\n"
     ]
    }
   ],
   "source": [
    "from transformers import AutoTokenizer, AutoModelForSequenceClassification, pipeline\n",
    "\n",
    "model_name = \"poom-sci/WangchanBERTa-finetuned-sentiment\"\n",
    "\n",
    "tokenizer = AutoTokenizer.from_pretrained(model_name)\n",
    "model = AutoModelForSequenceClassification.from_pretrained(model_name)\n",
    "\n",
    "classifier = pipeline(\"text-classification\", model=model, tokenizer=tokenizer)\n",
    "\n",
    "\n"
   ]
  },
  {
   "cell_type": "code",
   "execution_count": null,
   "id": "b423e3e0",
   "metadata": {},
   "outputs": [
    {
     "data": {
      "text/plain": [
       "[{'label': 'neu', 'score': 0.803070068359375}]"
      ]
     },
     "execution_count": 106,
     "metadata": {},
     "output_type": "execute_result"
    }
   ],
   "source": [
    "classifier('dddddddddddddddddddddddd', truncation=True)"
   ]
  },
  {
   "cell_type": "code",
   "execution_count": 108,
   "id": "4b28a556",
   "metadata": {},
   "outputs": [
    {
     "name": "stdout",
     "output_type": "stream",
     "text": [
      "<class 'pandas.core.frame.DataFrame'>\n",
      "RangeIndex: 849 entries, 0 to 848\n",
      "Data columns (total 3 columns):\n",
      " #   Column          Non-Null Count  Dtype  \n",
      "---  ------          --------------  -----  \n",
      " 0   id_review_main  824 non-null    object \n",
      " 1   review_rating   824 non-null    float64\n",
      " 2   review_text     824 non-null    object \n",
      "dtypes: float64(1), object(2)\n",
      "memory usage: 20.0+ KB\n"
     ]
    }
   ],
   "source": [
    "df_1_review.info()"
   ]
  },
  {
   "cell_type": "code",
   "execution_count": 122,
   "id": "b250d047",
   "metadata": {},
   "outputs": [],
   "source": [
    "df_1_review['review_text'] = df_1_review['review_text'].astype(str)\n",
    "df_2_review['review_text'] = df_2_review['review_text'].astype(str)\n",
    "df_3_review['review_text'] = df_3_review['review_text'].astype(str)\n"
   ]
  },
  {
   "cell_type": "code",
   "execution_count": 123,
   "id": "27298690",
   "metadata": {},
   "outputs": [
    {
     "name": "stdout",
     "output_type": "stream",
     "text": [
      "nan\n",
      "nan\n",
      "nan\n",
      "nan\n",
      "nan\n",
      "nan\n",
      "nan\n",
      "nan\n",
      "nan\n",
      "nan\n",
      "nan\n",
      "nan\n",
      "nan\n",
      "nan\n",
      "nan\n",
      "nan\n",
      "nan\n",
      "nan\n",
      "nan\n",
      "nan\n",
      "nan\n",
      "nan\n",
      "nan\n",
      "nan\n",
      "nan\n"
     ]
    }
   ],
   "source": [
    "for i in df_1_review['review_text']:\n",
    "    if i == 'nan':\n",
    "        print(i)"
   ]
  },
  {
   "cell_type": "code",
   "execution_count": 124,
   "id": "398cdece",
   "metadata": {},
   "outputs": [],
   "source": [
    "df_1_review['review_text'] = df_1_review['review_text'].replace('nagative', 'negative')\n",
    "df_2_review['review_text'] = df_2_review['review_text'].replace('nagative', 'negative')\n",
    "df_3_review['review_text'] = df_3_review['review_text'].replace('nagative', 'negative')\n"
   ]
  },
  {
   "cell_type": "code",
   "execution_count": 125,
   "id": "560a336d",
   "metadata": {},
   "outputs": [
    {
     "data": {
      "text/html": [
       "<div>\n",
       "<style scoped>\n",
       "    .dataframe tbody tr th:only-of-type {\n",
       "        vertical-align: middle;\n",
       "    }\n",
       "\n",
       "    .dataframe tbody tr th {\n",
       "        vertical-align: top;\n",
       "    }\n",
       "\n",
       "    .dataframe thead th {\n",
       "        text-align: right;\n",
       "    }\n",
       "</style>\n",
       "<table border=\"1\" class=\"dataframe\">\n",
       "  <thead>\n",
       "    <tr style=\"text-align: right;\">\n",
       "      <th></th>\n",
       "      <th>id_review_main</th>\n",
       "      <th>review_rating</th>\n",
       "      <th>review_text</th>\n",
       "    </tr>\n",
       "  </thead>\n",
       "  <tbody>\n",
       "    <tr>\n",
       "      <th>309</th>\n",
       "      <td>review_4</td>\n",
       "      <td>2.0</td>\n",
       "      <td>negative</td>\n",
       "    </tr>\n",
       "    <tr>\n",
       "      <th>620</th>\n",
       "      <td>review_14</td>\n",
       "      <td>1.0</td>\n",
       "      <td>negative</td>\n",
       "    </tr>\n",
       "    <tr>\n",
       "      <th>841</th>\n",
       "      <td>review_47</td>\n",
       "      <td>2.0</td>\n",
       "      <td>negative</td>\n",
       "    </tr>\n",
       "  </tbody>\n",
       "</table>\n",
       "</div>"
      ],
      "text/plain": [
       "    id_review_main  review_rating review_text\n",
       "309       review_4            2.0    negative\n",
       "620      review_14            1.0    negative\n",
       "841      review_47            2.0    negative"
      ]
     },
     "execution_count": 125,
     "metadata": {},
     "output_type": "execute_result"
    }
   ],
   "source": [
    "df_1_review[df_1_review['review_text'] == 'negative']"
   ]
  },
  {
   "cell_type": "code",
   "execution_count": 126,
   "id": "393879e4",
   "metadata": {},
   "outputs": [],
   "source": [
    "from tqdm import tqdm\n",
    "\n",
    "def apply_sentiment(df, pipe):\n",
    "    sentiments = []\n",
    "    for text in tqdm(df['review_text'], desc=\"Processing Sentiment\"):\n",
    "        text = str(text).strip()  # ✅ แปลงเป็น string และลบช่องว่าง\n",
    "\n",
    "        if text.lower() == 'nan':  # ✅ ถ้าเดิมเป็น NaN\n",
    "            sentiments.append(np.nan)\n",
    "        elif text == 'positive':\n",
    "            sentiments.append('pos')\n",
    "        elif text == 'negative':\n",
    "            sentiments.append('neg')\n",
    "        else:\n",
    "            try:\n",
    "                result = pipe(text, truncation=True)[0]['label']\n",
    "                sentiments.append(result)\n",
    "            except Exception as e:\n",
    "                result = pipe(text[:300], truncation=True)[0]['label']\n",
    "                sentiments.append(result)\n",
    "    df['sentiment'] = sentiments\n",
    "    return df\n"
   ]
  },
  {
   "cell_type": "code",
   "execution_count": 127,
   "id": "037c638e",
   "metadata": {},
   "outputs": [
    {
     "name": "stderr",
     "output_type": "stream",
     "text": [
      "Processing Sentiment: 100%|██████████| 849/849 [00:07<00:00, 117.70it/s]\n",
      "Processing Sentiment: 100%|██████████| 1294/1294 [00:10<00:00, 119.91it/s]\n",
      "Processing Sentiment: 100%|██████████| 629/629 [00:05<00:00, 121.67it/s]\n"
     ]
    }
   ],
   "source": [
    "df_1_review = apply_sentiment(df_1_review, classifier)\n",
    "df_2_review = apply_sentiment(df_2_review, classifier)\n",
    "df_3_review = apply_sentiment(df_3_review, classifier)"
   ]
  },
  {
   "cell_type": "code",
   "execution_count": 128,
   "id": "1fa5a775",
   "metadata": {},
   "outputs": [
    {
     "data": {
      "text/html": [
       "<div>\n",
       "<style scoped>\n",
       "    .dataframe tbody tr th:only-of-type {\n",
       "        vertical-align: middle;\n",
       "    }\n",
       "\n",
       "    .dataframe tbody tr th {\n",
       "        vertical-align: top;\n",
       "    }\n",
       "\n",
       "    .dataframe thead th {\n",
       "        text-align: right;\n",
       "    }\n",
       "</style>\n",
       "<table border=\"1\" class=\"dataframe\">\n",
       "  <thead>\n",
       "    <tr style=\"text-align: right;\">\n",
       "      <th></th>\n",
       "      <th>id_review_main</th>\n",
       "      <th>review_rating</th>\n",
       "      <th>review_text</th>\n",
       "      <th>sentiment</th>\n",
       "    </tr>\n",
       "  </thead>\n",
       "  <tbody>\n",
       "    <tr>\n",
       "      <th>0</th>\n",
       "      <td>review_1</td>\n",
       "      <td>3.0</td>\n",
       "      <td>เด็กเสิร์ฟน้อยขนาดไปวันเสาร์นั่งกินอาหารตั้งแต...</td>\n",
       "      <td>neg</td>\n",
       "    </tr>\n",
       "    <tr>\n",
       "      <th>1</th>\n",
       "      <td>review_1</td>\n",
       "      <td>5.0</td>\n",
       "      <td>มาครั้งแรกอาหารอร่อยถูกปาก.บรรยากาศดี.กาแฟอร่อ...</td>\n",
       "      <td>pos</td>\n",
       "    </tr>\n",
       "    <tr>\n",
       "      <th>2</th>\n",
       "      <td>review_1</td>\n",
       "      <td>4.0</td>\n",
       "      <td>บรรยากาศดีค่ะ  ถ้ามาช่วงค่ำมีดนตรี  อาหาร น่าจ...</td>\n",
       "      <td>pos</td>\n",
       "    </tr>\n",
       "    <tr>\n",
       "      <th>3</th>\n",
       "      <td>review_1</td>\n",
       "      <td>5.0</td>\n",
       "      <td>ร้านสวยยยยมากกก บรรยากาศดี ตอนแรกไม่ได้ตั้งใจแ...</td>\n",
       "      <td>pos</td>\n",
       "    </tr>\n",
       "    <tr>\n",
       "      <th>4</th>\n",
       "      <td>review_1</td>\n",
       "      <td>4.0</td>\n",
       "      <td>Theme Cafe &amp; Bistro คาเฟ่โรงนาสีแดงสไตล์ยุโรปต...</td>\n",
       "      <td>pos</td>\n",
       "    </tr>\n",
       "    <tr>\n",
       "      <th>...</th>\n",
       "      <td>...</td>\n",
       "      <td>...</td>\n",
       "      <td>...</td>\n",
       "      <td>...</td>\n",
       "    </tr>\n",
       "    <tr>\n",
       "      <th>844</th>\n",
       "      <td>review_47</td>\n",
       "      <td>5.0</td>\n",
       "      <td>positive</td>\n",
       "      <td>pos</td>\n",
       "    </tr>\n",
       "    <tr>\n",
       "      <th>845</th>\n",
       "      <td>review_47</td>\n",
       "      <td>5.0</td>\n",
       "      <td>positive</td>\n",
       "      <td>pos</td>\n",
       "    </tr>\n",
       "    <tr>\n",
       "      <th>846</th>\n",
       "      <td>review_49</td>\n",
       "      <td>5.0</td>\n",
       "      <td>กาแฟและเครื่องดื่มอร่อย ของคุณภาพดี แต่ราคาน่า...</td>\n",
       "      <td>pos</td>\n",
       "    </tr>\n",
       "    <tr>\n",
       "      <th>847</th>\n",
       "      <td>review_49</td>\n",
       "      <td>5.0</td>\n",
       "      <td>positive</td>\n",
       "      <td>pos</td>\n",
       "    </tr>\n",
       "    <tr>\n",
       "      <th>848</th>\n",
       "      <td>review_50</td>\n",
       "      <td>5.0</td>\n",
       "      <td>กาแฟเข้ม ง่วงๆมากินตื่นเลยจ้า  ร้านน่ารักค่ะ\\n...</td>\n",
       "      <td>pos</td>\n",
       "    </tr>\n",
       "  </tbody>\n",
       "</table>\n",
       "<p>849 rows × 4 columns</p>\n",
       "</div>"
      ],
      "text/plain": [
       "    id_review_main  review_rating  \\\n",
       "0         review_1            3.0   \n",
       "1         review_1            5.0   \n",
       "2         review_1            4.0   \n",
       "3         review_1            5.0   \n",
       "4         review_1            4.0   \n",
       "..             ...            ...   \n",
       "844      review_47            5.0   \n",
       "845      review_47            5.0   \n",
       "846      review_49            5.0   \n",
       "847      review_49            5.0   \n",
       "848      review_50            5.0   \n",
       "\n",
       "                                           review_text sentiment  \n",
       "0    เด็กเสิร์ฟน้อยขนาดไปวันเสาร์นั่งกินอาหารตั้งแต...       neg  \n",
       "1    มาครั้งแรกอาหารอร่อยถูกปาก.บรรยากาศดี.กาแฟอร่อ...       pos  \n",
       "2    บรรยากาศดีค่ะ  ถ้ามาช่วงค่ำมีดนตรี  อาหาร น่าจ...       pos  \n",
       "3    ร้านสวยยยยมากกก บรรยากาศดี ตอนแรกไม่ได้ตั้งใจแ...       pos  \n",
       "4    Theme Cafe & Bistro คาเฟ่โรงนาสีแดงสไตล์ยุโรปต...       pos  \n",
       "..                                                 ...       ...  \n",
       "844                                           positive       pos  \n",
       "845                                           positive       pos  \n",
       "846  กาแฟและเครื่องดื่มอร่อย ของคุณภาพดี แต่ราคาน่า...       pos  \n",
       "847                                           positive       pos  \n",
       "848  กาแฟเข้ม ง่วงๆมากินตื่นเลยจ้า  ร้านน่ารักค่ะ\\n...       pos  \n",
       "\n",
       "[849 rows x 4 columns]"
      ]
     },
     "execution_count": 128,
     "metadata": {},
     "output_type": "execute_result"
    }
   ],
   "source": [
    "df_1_review"
   ]
  },
  {
   "cell_type": "code",
   "execution_count": 129,
   "id": "9a9c0c67",
   "metadata": {},
   "outputs": [],
   "source": [
    "df_1_review.to_csv('df_1_review_clean.csv', index=False,encoding='utf-8-sig')\n",
    "df_2_review.to_csv('df_2_review_clean.csv', index=False,encoding='utf-8-sig')\n",
    "df_3_review.to_csv('df_3_review_clean.csv', index=False,encoding='utf-8-sig')"
   ]
  }
 ],
 "metadata": {
  "kernelspec": {
   "display_name": "pine",
   "language": "python",
   "name": "python3"
  },
  "language_info": {
   "codemirror_mode": {
    "name": "ipython",
    "version": 3
   },
   "file_extension": ".py",
   "mimetype": "text/x-python",
   "name": "python",
   "nbconvert_exporter": "python",
   "pygments_lexer": "ipython3",
   "version": "3.13.2"
  }
 },
 "nbformat": 4,
 "nbformat_minor": 5
}
