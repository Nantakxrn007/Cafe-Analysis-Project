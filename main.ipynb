{
 "cells": [
  {
   "cell_type": "code",
   "execution_count": null,
   "id": "7ff12557",
   "metadata": {},
   "outputs": [],
   "source": [
    "# !pip install selenium"
   ]
  },
  {
   "cell_type": "code",
   "execution_count": null,
   "id": "536716aa",
   "metadata": {},
   "outputs": [],
   "source": [
    "from selenium import webdriver\n",
    "from selenium.webdriver.edge.service import Service\n",
    "from selenium.webdriver.common.by import By\n",
    "from selenium.webdriver.common.keys import Keys\n",
    "from selenium import webdriver\n",
    "import time\n",
    "import re\n",
    "from selenium.common.exceptions import NoSuchElementException\n"
   ]
  },
  {
   "cell_type": "code",
   "execution_count": null,
   "id": "8057f3ed",
   "metadata": {},
   "outputs": [],
   "source": [
    "options = webdriver.EdgeOptions()\n",
    "options.add_argument(\"start-maximized\")  # เปิดเต็มจอ\n",
    "driver = webdriver.Edge(options=options)"
   ]
  },
  {
   "cell_type": "code",
   "execution_count": null,
   "id": "cd23beea",
   "metadata": {},
   "outputs": [],
   "source": [
    "# เปิด Google Maps\n",
    "driver.get(\"https://www.lazada.co.th\")\n",
    "\n",
    "# รอให้หน้าโหลด\n",
    "time.sleep(3)"
   ]
  }
 ],
 "metadata": {
  "language_info": {
   "name": "python"
  }
 },
 "nbformat": 4,
 "nbformat_minor": 5
}
