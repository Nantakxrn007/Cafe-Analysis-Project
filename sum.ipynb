{
 "cells": [
  {
   "cell_type": "code",
   "execution_count": 2,
   "id": "0ff0f436",
   "metadata": {},
   "outputs": [],
   "source": [
    "import pandas as pd\n",
    "import re \n",
    "import numpy as np "
   ]
  },
  {
   "cell_type": "code",
   "execution_count": 20,
   "id": "cdad1b58",
   "metadata": {},
   "outputs": [],
   "source": [
    "# df_1 = pd.read_csv('./Final2/df_ci_clean.csv')\n",
    "# df_2 = pd.read_csv('./Final2/df_ci_newclean.csv')\n",
    "\n",
    "# df_1 = pd.read_csv('./Final2/df_open_close_clean.csv')\n",
    "# df_2 = pd.read_csv('./Final2/df_open_close_newclean.csv')\n",
    "\n",
    "# df_1 = pd.read_csv('./Final2/df_option_clean.csv')\n",
    "# df_2 = pd.read_csv('./Final2/df_option_newclean.csv')\n",
    "\n",
    "df_1 = pd.read_csv('./Final2/df_review_clean.csv')\n",
    "df_2 = pd.read_csv('./Final2/df_review_newclean.csv')"
   ]
  },
  {
   "cell_type": "code",
   "execution_count": 3,
   "id": "b7d42443",
   "metadata": {},
   "outputs": [],
   "source": [
    "df_1 = pd.read_csv('df_main_oldclean0.csv')\n",
    "df_2 = pd.read_csv('df_main_newclean0.csv')\n",
    "# df_3 = pd.read_csv('df_3_main_clean.csv')"
   ]
  },
  {
   "cell_type": "code",
   "execution_count": 6,
   "id": "c358ede4",
   "metadata": {},
   "outputs": [],
   "source": [
    "df_1 = pd.read_csv('df_1_main_clean.csv')\n",
    "df_2 = pd.read_csv('df_2_main_clean.csv')\n",
    "df_3 = pd.read_csv('df_3_main_clean.csv')"
   ]
  },
  {
   "cell_type": "code",
   "execution_count": 7,
   "id": "8179839f",
   "metadata": {},
   "outputs": [
    {
     "data": {
      "text/plain": [
       "True"
      ]
     },
     "execution_count": 7,
     "metadata": {},
     "output_type": "execute_result"
    }
   ],
   "source": [
    "len(df_1.columns) == len(df_2.columns) == len(df_3.columns) \n",
    "# len(df_1.columns) == len(df_2.columns)"
   ]
  },
  {
   "cell_type": "code",
   "execution_count": 8,
   "id": "44b098ea",
   "metadata": {},
   "outputs": [],
   "source": [
    "result = pd.concat([df_1, df_3,  df_2], axis=0,ignore_index=True)\n",
    "# result = pd.concat([df_1, df_2], axis=0,ignore_index=True)"
   ]
  },
  {
   "cell_type": "code",
   "execution_count": 9,
   "id": "630ccc42",
   "metadata": {},
   "outputs": [],
   "source": [
    "result.to_csv('df_main2.csv', index=False,encoding='utf-8-sig')"
   ]
  },
  {
   "cell_type": "code",
   "execution_count": null,
   "id": "af91d8ab",
   "metadata": {},
   "outputs": [],
   "source": []
  },
  {
   "cell_type": "code",
   "execution_count": 10,
   "id": "3af5a96b",
   "metadata": {},
   "outputs": [],
   "source": [
    "df_1 = pd.read_csv('df_1_ci_clean.csv')\n",
    "df_2 = pd.read_csv('df_2_ci_clean.csv')\n",
    "df_3 = pd.read_csv('df_3_ci_clean.csv')"
   ]
  },
  {
   "cell_type": "code",
   "execution_count": 11,
   "id": "b430f5c3",
   "metadata": {},
   "outputs": [
    {
     "data": {
      "text/plain": [
       "True"
      ]
     },
     "execution_count": 11,
     "metadata": {},
     "output_type": "execute_result"
    }
   ],
   "source": [
    "len(df_1.columns) == len(df_2.columns) == len(df_3.columns) "
   ]
  },
  {
   "cell_type": "code",
   "execution_count": 12,
   "id": "2c1b34f1",
   "metadata": {},
   "outputs": [],
   "source": [
    "result = pd.concat([df_1, df_3,  df_2], axis=0,ignore_index=True)"
   ]
  },
  {
   "cell_type": "code",
   "execution_count": 13,
   "id": "fc908771",
   "metadata": {},
   "outputs": [
    {
     "name": "stdout",
     "output_type": "stream",
     "text": [
      "<class 'pandas.core.frame.DataFrame'>\n",
      "RangeIndex: 1754 entries, 0 to 1753\n",
      "Data columns (total 5 columns):\n",
      " #   Column            Non-Null Count  Dtype  \n",
      "---  ------            --------------  -----  \n",
      " 0   id_customer_main  1750 non-null   object \n",
      " 1   customer          1750 non-null   object \n",
      " 2   customer_day      1750 non-null   object \n",
      " 3   time              1747 non-null   object \n",
      " 4   percent           1747 non-null   float64\n",
      "dtypes: float64(1), object(4)\n",
      "memory usage: 68.6+ KB\n"
     ]
    }
   ],
   "source": [
    "result.info()"
   ]
  },
  {
   "cell_type": "code",
   "execution_count": 14,
   "id": "3ead9fd3",
   "metadata": {},
   "outputs": [
    {
     "data": {
      "text/plain": [
       "id_customer_main    4\n",
       "customer            4\n",
       "customer_day        4\n",
       "time                7\n",
       "percent             7\n",
       "dtype: int64"
      ]
     },
     "execution_count": 14,
     "metadata": {},
     "output_type": "execute_result"
    }
   ],
   "source": [
    "result.isnull().sum()"
   ]
  },
  {
   "cell_type": "code",
   "execution_count": 15,
   "id": "dbcaf835",
   "metadata": {},
   "outputs": [
    {
     "name": "stdout",
     "output_type": "stream",
     "text": [
      "<class 'pandas.core.frame.DataFrame'>\n",
      "Index: 1747 entries, 0 to 1753\n",
      "Data columns (total 5 columns):\n",
      " #   Column            Non-Null Count  Dtype  \n",
      "---  ------            --------------  -----  \n",
      " 0   id_customer_main  1747 non-null   object \n",
      " 1   customer          1747 non-null   object \n",
      " 2   customer_day      1747 non-null   object \n",
      " 3   time              1747 non-null   object \n",
      " 4   percent           1747 non-null   float64\n",
      "dtypes: float64(1), object(4)\n",
      "memory usage: 81.9+ KB\n"
     ]
    }
   ],
   "source": [
    "result = result.dropna()\n",
    "result.info()"
   ]
  },
  {
   "cell_type": "code",
   "execution_count": 16,
   "id": "de6843ea",
   "metadata": {},
   "outputs": [],
   "source": [
    "result.to_csv('df_ci2.csv', index=False,encoding='utf-8-sig')"
   ]
  },
  {
   "cell_type": "code",
   "execution_count": null,
   "id": "f1f8732b",
   "metadata": {},
   "outputs": [],
   "source": []
  },
  {
   "cell_type": "code",
   "execution_count": 17,
   "id": "ba4af256",
   "metadata": {},
   "outputs": [],
   "source": [
    "df_1 = pd.read_csv('df_1_open_close_clean.csv')\n",
    "df_2 = pd.read_csv('df_2_open_close_clean.csv')\n",
    "df_3 = pd.read_csv('df_3_open_close_clean.csv')"
   ]
  },
  {
   "cell_type": "code",
   "execution_count": 18,
   "id": "56c55e84",
   "metadata": {},
   "outputs": [],
   "source": [
    "result = pd.concat([df_1, df_3,  df_2], axis=0,ignore_index=True)"
   ]
  },
  {
   "cell_type": "code",
   "execution_count": 19,
   "id": "f627a475",
   "metadata": {},
   "outputs": [
    {
     "name": "stdout",
     "output_type": "stream",
     "text": [
      "<class 'pandas.core.frame.DataFrame'>\n",
      "RangeIndex: 114 entries, 0 to 113\n",
      "Data columns (total 6 columns):\n",
      " #   Column              Non-Null Count  Dtype  \n",
      "---  ------              --------------  -----  \n",
      " 0   id_open_close_main  112 non-null    object \n",
      " 1   day_open_close      112 non-null    object \n",
      " 2   open                112 non-null    float64\n",
      " 3   close               112 non-null    float64\n",
      " 4   open_time           112 non-null    object \n",
      " 5   open_close          112 non-null    object \n",
      "dtypes: float64(2), object(4)\n",
      "memory usage: 5.5+ KB\n"
     ]
    }
   ],
   "source": [
    "result.info()"
   ]
  },
  {
   "cell_type": "code",
   "execution_count": 20,
   "id": "e8d24000",
   "metadata": {},
   "outputs": [],
   "source": [
    "result = result.dropna()"
   ]
  },
  {
   "cell_type": "code",
   "execution_count": 21,
   "id": "de77be2f",
   "metadata": {},
   "outputs": [
    {
     "data": {
      "text/plain": [
       "id_open_close_main    0\n",
       "day_open_close        0\n",
       "open                  0\n",
       "close                 0\n",
       "open_time             0\n",
       "open_close            0\n",
       "dtype: int64"
      ]
     },
     "execution_count": 21,
     "metadata": {},
     "output_type": "execute_result"
    }
   ],
   "source": [
    "result.isnull().sum()"
   ]
  },
  {
   "cell_type": "code",
   "execution_count": 22,
   "id": "6ae4ab1c",
   "metadata": {},
   "outputs": [],
   "source": [
    "result.to_csv('df_open_close2.csv', index=False,encoding='utf-8-sig')"
   ]
  },
  {
   "cell_type": "code",
   "execution_count": null,
   "id": "a165af8a",
   "metadata": {},
   "outputs": [],
   "source": []
  },
  {
   "cell_type": "code",
   "execution_count": 23,
   "id": "fc370793",
   "metadata": {},
   "outputs": [],
   "source": [
    "df_1 = pd.read_csv('df_1_option_clean.csv')\n",
    "df_2 = pd.read_csv('df_2_option_clean.csv')\n",
    "df_3 = pd.read_csv('df_3_option_clean.csv')"
   ]
  },
  {
   "cell_type": "code",
   "execution_count": 24,
   "id": "194ef324",
   "metadata": {},
   "outputs": [],
   "source": [
    "result = pd.concat([df_1, df_3,  df_2], axis=0,ignore_index=True)"
   ]
  },
  {
   "cell_type": "code",
   "execution_count": 25,
   "id": "d3e659d8",
   "metadata": {},
   "outputs": [
    {
     "data": {
      "text/html": [
       "<div>\n",
       "<style scoped>\n",
       "    .dataframe tbody tr th:only-of-type {\n",
       "        vertical-align: middle;\n",
       "    }\n",
       "\n",
       "    .dataframe tbody tr th {\n",
       "        vertical-align: top;\n",
       "    }\n",
       "\n",
       "    .dataframe thead th {\n",
       "        text-align: right;\n",
       "    }\n",
       "</style>\n",
       "<table border=\"1\" class=\"dataframe\">\n",
       "  <thead>\n",
       "    <tr style=\"text-align: right;\">\n",
       "      <th></th>\n",
       "      <th>id_option_main</th>\n",
       "      <th>option</th>\n",
       "    </tr>\n",
       "  </thead>\n",
       "  <tbody>\n",
       "    <tr>\n",
       "      <th>0</th>\n",
       "      <td>option_500</td>\n",
       "      <td>ที่จอดรถที่เก้าอี้รถเข็นสามารถใช้ได้</td>\n",
       "    </tr>\n",
       "    <tr>\n",
       "      <th>1</th>\n",
       "      <td>option_500</td>\n",
       "      <td>ที่นั่งกลางแจ้ง</td>\n",
       "    </tr>\n",
       "    <tr>\n",
       "      <th>2</th>\n",
       "      <td>option_500</td>\n",
       "      <td>บริการจัดส่ง</td>\n",
       "    </tr>\n",
       "    <tr>\n",
       "      <th>3</th>\n",
       "      <td>option_500</td>\n",
       "      <td>สั่งกลับบ้าน</td>\n",
       "    </tr>\n",
       "    <tr>\n",
       "      <th>4</th>\n",
       "      <td>option_500</td>\n",
       "      <td>กาแฟรสชาติเยี่ยม</td>\n",
       "    </tr>\n",
       "    <tr>\n",
       "      <th>...</th>\n",
       "      <td>...</td>\n",
       "      <td>...</td>\n",
       "    </tr>\n",
       "    <tr>\n",
       "      <th>306</th>\n",
       "      <td>option_600</td>\n",
       "      <td>เมนูสำหรับเด็ก</td>\n",
       "    </tr>\n",
       "    <tr>\n",
       "      <th>307</th>\n",
       "      <td>option_600</td>\n",
       "      <td>เหมาะสำหรับเด็ก</td>\n",
       "    </tr>\n",
       "    <tr>\n",
       "      <th>308</th>\n",
       "      <td>option_600</td>\n",
       "      <td>มีที่จอดจำนวนมาก</td>\n",
       "    </tr>\n",
       "    <tr>\n",
       "      <th>309</th>\n",
       "      <td>option_600</td>\n",
       "      <td>ที่จอดรถแบบไม่เสียค่าใช้จ่าย</td>\n",
       "    </tr>\n",
       "    <tr>\n",
       "      <th>310</th>\n",
       "      <td>option_600</td>\n",
       "      <td>ที่จอดรถริมถนนแบบไม่เสียค่าใช้จ่าย</td>\n",
       "    </tr>\n",
       "  </tbody>\n",
       "</table>\n",
       "<p>311 rows × 2 columns</p>\n",
       "</div>"
      ],
      "text/plain": [
       "    id_option_main                                option\n",
       "0       option_500  ที่จอดรถที่เก้าอี้รถเข็นสามารถใช้ได้\n",
       "1       option_500                       ที่นั่งกลางแจ้ง\n",
       "2       option_500                          บริการจัดส่ง\n",
       "3       option_500                          สั่งกลับบ้าน\n",
       "4       option_500                      กาแฟรสชาติเยี่ยม\n",
       "..             ...                                   ...\n",
       "306     option_600                        เมนูสำหรับเด็ก\n",
       "307     option_600                       เหมาะสำหรับเด็ก\n",
       "308     option_600                      มีที่จอดจำนวนมาก\n",
       "309     option_600          ที่จอดรถแบบไม่เสียค่าใช้จ่าย\n",
       "310     option_600    ที่จอดรถริมถนนแบบไม่เสียค่าใช้จ่าย\n",
       "\n",
       "[311 rows x 2 columns]"
      ]
     },
     "execution_count": 25,
     "metadata": {},
     "output_type": "execute_result"
    }
   ],
   "source": [
    "result"
   ]
  },
  {
   "cell_type": "code",
   "execution_count": 26,
   "id": "d7dd778c",
   "metadata": {},
   "outputs": [
    {
     "name": "stdout",
     "output_type": "stream",
     "text": [
      "<class 'pandas.core.frame.DataFrame'>\n",
      "RangeIndex: 311 entries, 0 to 310\n",
      "Data columns (total 2 columns):\n",
      " #   Column          Non-Null Count  Dtype \n",
      "---  ------          --------------  ----- \n",
      " 0   id_option_main  311 non-null    object\n",
      " 1   option          311 non-null    object\n",
      "dtypes: object(2)\n",
      "memory usage: 5.0+ KB\n"
     ]
    }
   ],
   "source": [
    "result.info()"
   ]
  },
  {
   "cell_type": "code",
   "execution_count": 27,
   "id": "fd81f116",
   "metadata": {},
   "outputs": [
    {
     "name": "stdout",
     "output_type": "stream",
     "text": [
      "<class 'pandas.core.frame.DataFrame'>\n",
      "RangeIndex: 311 entries, 0 to 310\n",
      "Data columns (total 2 columns):\n",
      " #   Column          Non-Null Count  Dtype \n",
      "---  ------          --------------  ----- \n",
      " 0   id_option_main  311 non-null    object\n",
      " 1   option          311 non-null    object\n",
      "dtypes: object(2)\n",
      "memory usage: 5.0+ KB\n"
     ]
    }
   ],
   "source": [
    "result = result.dropna()\n",
    "result.info()"
   ]
  },
  {
   "cell_type": "code",
   "execution_count": 28,
   "id": "ac98c57c",
   "metadata": {},
   "outputs": [
    {
     "data": {
      "text/plain": [
       "array(['ที่จอดรถที่เก้าอี้รถเข็นสามารถใช้ได้', 'ที่นั่งกลางแจ้ง',\n",
       "       'บริการจัดส่ง', 'สั่งกลับบ้าน', 'กาแฟรสชาติเยี่ยม',\n",
       "       'ขนมหวานรสชาติเยี่ยม', 'ตัวเลือกชารสเลิศ',\n",
       "       'เหมาะกับการทำงานด้วยแล็ปท็อป', 'กาแฟ', 'ของหวาน', 'ที่นั่ง',\n",
       "       'ความเป็นกันเอง', 'ทันสมัย', 'ขาจร', 'นักศึกษามหาวิทยาลัย',\n",
       "       'เมนูสำหรับเด็ก', 'เหมาะสำหรับเด็ก',\n",
       "       'ที่จอดรถริมถนนแบบไม่เสียค่าใช้จ่าย', 'นั่งรับประทานที่ร้าน',\n",
       "       'มาเป็นกลุ่ม', 'มีที่จอดจำนวนมาก', 'ที่จอดรถแบบไม่เสียค่าใช้จ่าย',\n",
       "       'รับประทานอาหารคนเดียว', 'รับสินค้าโดยไม่ต้องลงจากรถ',\n",
       "       'บัตรเครดิต', 'ไดรฟ์ทรู', 'ที่นั่งสำหรับเก้าอี้รถเข็น',\n",
       "       'ห้องน้ำรองรับเก้าอี้รถเข็น', 'ห้องน้ำ', 'อบอุ่น',\n",
       "       'จัดส่งโดยไม่สัมผัส', 'อาหารจานเล็ก', 'โดยปกติต้องรอ'],\n",
       "      dtype=object)"
      ]
     },
     "execution_count": 28,
     "metadata": {},
     "output_type": "execute_result"
    }
   ],
   "source": [
    "result['option'].unique()"
   ]
  },
  {
   "cell_type": "code",
   "execution_count": 29,
   "id": "ac6f57bf",
   "metadata": {},
   "outputs": [],
   "source": [
    "result.to_csv('df_option2.csv', index=False,encoding='utf-8-sig')"
   ]
  },
  {
   "cell_type": "code",
   "execution_count": null,
   "id": "e5415c9e",
   "metadata": {},
   "outputs": [],
   "source": []
  },
  {
   "cell_type": "code",
   "execution_count": 30,
   "id": "8b8f6ff2",
   "metadata": {},
   "outputs": [],
   "source": [
    "df_1 = pd.read_csv('df_1_review_clean.csv')\n",
    "df_2 = pd.read_csv('df_2_review_clean.csv')\n",
    "df_3 = pd.read_csv('df_3_review_clean.csv')"
   ]
  },
  {
   "cell_type": "code",
   "execution_count": 31,
   "id": "ac37702d",
   "metadata": {},
   "outputs": [],
   "source": [
    "result = pd.concat([df_1, df_3,  df_2], axis=0,ignore_index=True)"
   ]
  },
  {
   "cell_type": "code",
   "execution_count": 32,
   "id": "ab7395b5",
   "metadata": {},
   "outputs": [
    {
     "name": "stdout",
     "output_type": "stream",
     "text": [
      "<class 'pandas.core.frame.DataFrame'>\n",
      "RangeIndex: 502 entries, 0 to 501\n",
      "Data columns (total 4 columns):\n",
      " #   Column          Non-Null Count  Dtype \n",
      "---  ------          --------------  ----- \n",
      " 0   id_review_main  502 non-null    object\n",
      " 1   review_rating   502 non-null    int64 \n",
      " 2   review_text     502 non-null    object\n",
      " 3   sentiment       502 non-null    object\n",
      "dtypes: int64(1), object(3)\n",
      "memory usage: 15.8+ KB\n"
     ]
    }
   ],
   "source": [
    "result.info()"
   ]
  },
  {
   "cell_type": "code",
   "execution_count": 33,
   "id": "59a83003",
   "metadata": {},
   "outputs": [
    {
     "data": {
      "text/plain": [
       "id_review_main    0\n",
       "review_rating     0\n",
       "review_text       0\n",
       "sentiment         0\n",
       "dtype: int64"
      ]
     },
     "execution_count": 33,
     "metadata": {},
     "output_type": "execute_result"
    }
   ],
   "source": [
    "result.isnull().sum()"
   ]
  },
  {
   "cell_type": "code",
   "execution_count": 34,
   "id": "830ce898",
   "metadata": {},
   "outputs": [],
   "source": [
    "result = result.dropna()\n"
   ]
  },
  {
   "cell_type": "code",
   "execution_count": 35,
   "id": "d6b73964",
   "metadata": {},
   "outputs": [],
   "source": [
    "result.to_csv('df_review2.csv', index=False,encoding='utf-8-sig')"
   ]
  },
  {
   "cell_type": "code",
   "execution_count": null,
   "id": "18dfc24c",
   "metadata": {},
   "outputs": [],
   "source": []
  },
  {
   "cell_type": "code",
   "execution_count": null,
   "id": "1c5434bf",
   "metadata": {},
   "outputs": [],
   "source": [
    "#รวมสุดท้ายใหญ่ สุด "
   ]
  },
  {
   "cell_type": "code",
   "execution_count": 52,
   "id": "0e315491",
   "metadata": {},
   "outputs": [],
   "source": [
    "# df_1 = pd.read_csv('./Final3/df_main2.csv')\n",
    "# df_2 = pd.read_csv('./Final3/df_main.csv')\n",
    "# df_1 = pd.read_csv('./Final3/df_ci2.csv')\n",
    "# df_2 = pd.read_csv('./Final3/df_ci.csv')\n",
    "# df_1 = pd.read_csv('./Final3/df_option2.csv')\n",
    "# df_2 = pd.read_csv('./Final3/df_option.csv')\n",
    "# df_1 = pd.read_csv('./Final3/df_review2.csv')\n",
    "# df_2 = pd.read_csv('./Final3/df_review.csv')\n",
    "df_1 = pd.read_csv('./Final3/df_open_close2.csv')\n",
    "df_2 = pd.read_csv('./Final3/df_open_close.csv')"
   ]
  },
  {
   "cell_type": "code",
   "execution_count": 53,
   "id": "e87b3686",
   "metadata": {},
   "outputs": [],
   "source": [
    "result = pd.concat([df_1, df_2], axis=0,ignore_index=True)"
   ]
  },
  {
   "cell_type": "code",
   "execution_count": 54,
   "id": "70385da9",
   "metadata": {},
   "outputs": [],
   "source": [
    "result.to_csv('df_open_closeA.csv', index=False,encoding='utf-8-sig')"
   ]
  }
 ],
 "metadata": {
  "kernelspec": {
   "display_name": "scrap",
   "language": "python",
   "name": "python3"
  },
  "language_info": {
   "codemirror_mode": {
    "name": "ipython",
    "version": 3
   },
   "file_extension": ".py",
   "mimetype": "text/x-python",
   "name": "python",
   "nbconvert_exporter": "python",
   "pygments_lexer": "ipython3",
   "version": "3.10.16"
  }
 },
 "nbformat": 4,
 "nbformat_minor": 5
}
