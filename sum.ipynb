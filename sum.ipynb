{
 "cells": [
  {
   "cell_type": "code",
   "execution_count": 1,
   "id": "0ff0f436",
   "metadata": {},
   "outputs": [],
   "source": [
    "import pandas as pd\n",
    "import re \n",
    "import numpy as np "
   ]
  },
  {
   "cell_type": "code",
   "execution_count": 2,
   "id": "c358ede4",
   "metadata": {},
   "outputs": [],
   "source": [
    "df_1 = pd.read_csv('df_1_main_clean.csv')\n",
    "df_2 = pd.read_csv('df_2_main_clean.csv')\n",
    "df_3 = pd.read_csv('df_3_main_clean.csv')"
   ]
  },
  {
   "cell_type": "code",
   "execution_count": 3,
   "id": "8179839f",
   "metadata": {},
   "outputs": [
    {
     "data": {
      "text/plain": [
       "True"
      ]
     },
     "execution_count": 3,
     "metadata": {},
     "output_type": "execute_result"
    }
   ],
   "source": [
    "len(df_1.columns) == len(df_2.columns) == len(df_3.columns) "
   ]
  },
  {
   "cell_type": "code",
   "execution_count": 4,
   "id": "44b098ea",
   "metadata": {},
   "outputs": [],
   "source": [
    "result = pd.concat([df_1, df_3,  df_2], axis=0,ignore_index=True)"
   ]
  },
  {
   "cell_type": "code",
   "execution_count": 5,
   "id": "630ccc42",
   "metadata": {},
   "outputs": [],
   "source": [
    "result.to_csv('df_main_newclean.csv', index=False,encoding='utf-8-sig')"
   ]
  },
  {
   "cell_type": "code",
   "execution_count": null,
   "id": "af91d8ab",
   "metadata": {},
   "outputs": [],
   "source": []
  },
  {
   "cell_type": "code",
   "execution_count": 6,
   "id": "3af5a96b",
   "metadata": {},
   "outputs": [],
   "source": [
    "df_1 = pd.read_csv('df_1_ci_clean.csv')\n",
    "df_2 = pd.read_csv('df_2_ci_clean.csv')\n",
    "df_3 = pd.read_csv('df_3_ci_clean.csv')"
   ]
  },
  {
   "cell_type": "code",
   "execution_count": 7,
   "id": "b430f5c3",
   "metadata": {},
   "outputs": [
    {
     "data": {
      "text/plain": [
       "True"
      ]
     },
     "execution_count": 7,
     "metadata": {},
     "output_type": "execute_result"
    }
   ],
   "source": [
    "len(df_1.columns) == len(df_2.columns) == len(df_3.columns) "
   ]
  },
  {
   "cell_type": "code",
   "execution_count": 8,
   "id": "2c1b34f1",
   "metadata": {},
   "outputs": [],
   "source": [
    "result = pd.concat([df_1, df_3,  df_2], axis=0,ignore_index=True)"
   ]
  },
  {
   "cell_type": "code",
   "execution_count": 9,
   "id": "fc908771",
   "metadata": {},
   "outputs": [
    {
     "name": "stdout",
     "output_type": "stream",
     "text": [
      "<class 'pandas.core.frame.DataFrame'>\n",
      "RangeIndex: 6529 entries, 0 to 6528\n",
      "Data columns (total 5 columns):\n",
      " #   Column            Non-Null Count  Dtype  \n",
      "---  ------            --------------  -----  \n",
      " 0   id_customer_main  6437 non-null   object \n",
      " 1   customer          6437 non-null   object \n",
      " 2   customer_day      6437 non-null   object \n",
      " 3   time              6424 non-null   object \n",
      " 4   percent           6424 non-null   float64\n",
      "dtypes: float64(1), object(4)\n",
      "memory usage: 255.2+ KB\n"
     ]
    }
   ],
   "source": [
    "result.info()"
   ]
  },
  {
   "cell_type": "code",
   "execution_count": 10,
   "id": "3ead9fd3",
   "metadata": {},
   "outputs": [
    {
     "data": {
      "text/plain": [
       "id_customer_main     92\n",
       "customer             92\n",
       "customer_day         92\n",
       "time                105\n",
       "percent             105\n",
       "dtype: int64"
      ]
     },
     "execution_count": 10,
     "metadata": {},
     "output_type": "execute_result"
    }
   ],
   "source": [
    "result.isnull().sum()"
   ]
  },
  {
   "cell_type": "code",
   "execution_count": 11,
   "id": "dbcaf835",
   "metadata": {},
   "outputs": [
    {
     "name": "stdout",
     "output_type": "stream",
     "text": [
      "<class 'pandas.core.frame.DataFrame'>\n",
      "Index: 6424 entries, 0 to 6528\n",
      "Data columns (total 5 columns):\n",
      " #   Column            Non-Null Count  Dtype  \n",
      "---  ------            --------------  -----  \n",
      " 0   id_customer_main  6424 non-null   object \n",
      " 1   customer          6424 non-null   object \n",
      " 2   customer_day      6424 non-null   object \n",
      " 3   time              6424 non-null   object \n",
      " 4   percent           6424 non-null   float64\n",
      "dtypes: float64(1), object(4)\n",
      "memory usage: 301.1+ KB\n"
     ]
    }
   ],
   "source": [
    "result = result.dropna()\n",
    "result.info()"
   ]
  },
  {
   "cell_type": "code",
   "execution_count": 12,
   "id": "de6843ea",
   "metadata": {},
   "outputs": [],
   "source": [
    "result.to_csv('df_ci_newclean.csv', index=False,encoding='utf-8-sig')"
   ]
  },
  {
   "cell_type": "code",
   "execution_count": null,
   "id": "f1f8732b",
   "metadata": {},
   "outputs": [],
   "source": []
  },
  {
   "cell_type": "code",
   "execution_count": 13,
   "id": "ba4af256",
   "metadata": {},
   "outputs": [],
   "source": [
    "df_1 = pd.read_csv('df_1_open_close_clean.csv')\n",
    "df_2 = pd.read_csv('df_2_open_close_clean.csv')\n",
    "df_3 = pd.read_csv('df_3_open_close_clean.csv')"
   ]
  },
  {
   "cell_type": "code",
   "execution_count": 14,
   "id": "56c55e84",
   "metadata": {},
   "outputs": [],
   "source": [
    "result = pd.concat([df_1, df_3,  df_2], axis=0,ignore_index=True)"
   ]
  },
  {
   "cell_type": "code",
   "execution_count": 15,
   "id": "f627a475",
   "metadata": {},
   "outputs": [
    {
     "name": "stdout",
     "output_type": "stream",
     "text": [
      "<class 'pandas.core.frame.DataFrame'>\n",
      "RangeIndex: 964 entries, 0 to 963\n",
      "Data columns (total 6 columns):\n",
      " #   Column              Non-Null Count  Dtype  \n",
      "---  ------              --------------  -----  \n",
      " 0   id_open_close_main  945 non-null    object \n",
      " 1   day_open_close      945 non-null    object \n",
      " 2   open                945 non-null    float64\n",
      " 3   close               945 non-null    float64\n",
      " 4   open_time           945 non-null    object \n",
      " 5   open_close          945 non-null    object \n",
      "dtypes: float64(2), object(4)\n",
      "memory usage: 45.3+ KB\n"
     ]
    }
   ],
   "source": [
    "result.info()"
   ]
  },
  {
   "cell_type": "code",
   "execution_count": 16,
   "id": "e8d24000",
   "metadata": {},
   "outputs": [],
   "source": [
    "result = result.dropna()"
   ]
  },
  {
   "cell_type": "code",
   "execution_count": 17,
   "id": "de77be2f",
   "metadata": {},
   "outputs": [
    {
     "data": {
      "text/plain": [
       "id_open_close_main    0\n",
       "day_open_close        0\n",
       "open                  0\n",
       "close                 0\n",
       "open_time             0\n",
       "open_close            0\n",
       "dtype: int64"
      ]
     },
     "execution_count": 17,
     "metadata": {},
     "output_type": "execute_result"
    }
   ],
   "source": [
    "result.isnull().sum()"
   ]
  },
  {
   "cell_type": "code",
   "execution_count": 18,
   "id": "6ae4ab1c",
   "metadata": {},
   "outputs": [],
   "source": [
    "result.to_csv('df_open_close_newclean.csv', index=False,encoding='utf-8-sig')"
   ]
  },
  {
   "cell_type": "code",
   "execution_count": null,
   "id": "a165af8a",
   "metadata": {},
   "outputs": [],
   "source": []
  },
  {
   "cell_type": "code",
   "execution_count": 19,
   "id": "fc370793",
   "metadata": {},
   "outputs": [],
   "source": [
    "df_1 = pd.read_csv('df_1_option_clean.csv')\n",
    "df_2 = pd.read_csv('df_2_option_clean.csv')\n",
    "df_3 = pd.read_csv('df_3_option_clean.csv')"
   ]
  },
  {
   "cell_type": "code",
   "execution_count": 20,
   "id": "194ef324",
   "metadata": {},
   "outputs": [],
   "source": [
    "result = pd.concat([df_1, df_3,  df_2], axis=0,ignore_index=True)"
   ]
  },
  {
   "cell_type": "code",
   "execution_count": 21,
   "id": "d3e659d8",
   "metadata": {},
   "outputs": [
    {
     "data": {
      "text/html": [
       "<div>\n",
       "<style scoped>\n",
       "    .dataframe tbody tr th:only-of-type {\n",
       "        vertical-align: middle;\n",
       "    }\n",
       "\n",
       "    .dataframe tbody tr th {\n",
       "        vertical-align: top;\n",
       "    }\n",
       "\n",
       "    .dataframe thead th {\n",
       "        text-align: right;\n",
       "    }\n",
       "</style>\n",
       "<table border=\"1\" class=\"dataframe\">\n",
       "  <thead>\n",
       "    <tr style=\"text-align: right;\">\n",
       "      <th></th>\n",
       "      <th>id_option_main</th>\n",
       "      <th>option</th>\n",
       "    </tr>\n",
       "  </thead>\n",
       "  <tbody>\n",
       "    <tr>\n",
       "      <th>0</th>\n",
       "      <td>option_302</td>\n",
       "      <td>รับสินค้าโดยไม่ต้องลงจากรถ</td>\n",
       "    </tr>\n",
       "    <tr>\n",
       "      <th>1</th>\n",
       "      <td>option_302</td>\n",
       "      <td>สั่งกลับบ้าน</td>\n",
       "    </tr>\n",
       "    <tr>\n",
       "      <th>2</th>\n",
       "      <td>option_302</td>\n",
       "      <td>นั่งรับประทานที่ร้าน</td>\n",
       "    </tr>\n",
       "    <tr>\n",
       "      <th>3</th>\n",
       "      <td>option_302</td>\n",
       "      <td></td>\n",
       "    </tr>\n",
       "    <tr>\n",
       "      <th>4</th>\n",
       "      <td>option_302</td>\n",
       "      <td>บริการจัดส่ง</td>\n",
       "    </tr>\n",
       "    <tr>\n",
       "      <th>...</th>\n",
       "      <td>...</td>\n",
       "      <td>...</td>\n",
       "    </tr>\n",
       "    <tr>\n",
       "      <th>2742</th>\n",
       "      <td>option_265</td>\n",
       "      <td>ทันสมัย</td>\n",
       "    </tr>\n",
       "    <tr>\n",
       "      <th>2743</th>\n",
       "      <td>option_265</td>\n",
       "      <td>มาเป็นกลุ่ม</td>\n",
       "    </tr>\n",
       "    <tr>\n",
       "      <th>2744</th>\n",
       "      <td>option_265</td>\n",
       "      <td>เมนูสำหรับเด็ก</td>\n",
       "    </tr>\n",
       "    <tr>\n",
       "      <th>2745</th>\n",
       "      <td>option_265</td>\n",
       "      <td>เหมาะสำหรับเด็ก</td>\n",
       "    </tr>\n",
       "    <tr>\n",
       "      <th>2746</th>\n",
       "      <td>option_265</td>\n",
       "      <td>ที่จอดรถริมถนนแบบไม่เสียค่าใช้จ่าย</td>\n",
       "    </tr>\n",
       "  </tbody>\n",
       "</table>\n",
       "<p>2747 rows × 2 columns</p>\n",
       "</div>"
      ],
      "text/plain": [
       "     id_option_main                              option\n",
       "0        option_302          รับสินค้าโดยไม่ต้องลงจากรถ\n",
       "1        option_302                        สั่งกลับบ้าน\n",
       "2        option_302                นั่งรับประทานที่ร้าน\n",
       "3        option_302                                   \n",
       "4        option_302                        บริการจัดส่ง\n",
       "...             ...                                 ...\n",
       "2742     option_265                             ทันสมัย\n",
       "2743     option_265                         มาเป็นกลุ่ม\n",
       "2744     option_265                      เมนูสำหรับเด็ก\n",
       "2745     option_265                     เหมาะสำหรับเด็ก\n",
       "2746     option_265  ที่จอดรถริมถนนแบบไม่เสียค่าใช้จ่าย\n",
       "\n",
       "[2747 rows x 2 columns]"
      ]
     },
     "execution_count": 21,
     "metadata": {},
     "output_type": "execute_result"
    }
   ],
   "source": [
    "result"
   ]
  },
  {
   "cell_type": "code",
   "execution_count": 22,
   "id": "d7dd778c",
   "metadata": {},
   "outputs": [
    {
     "name": "stdout",
     "output_type": "stream",
     "text": [
      "<class 'pandas.core.frame.DataFrame'>\n",
      "RangeIndex: 2747 entries, 0 to 2746\n",
      "Data columns (total 2 columns):\n",
      " #   Column          Non-Null Count  Dtype \n",
      "---  ------          --------------  ----- \n",
      " 0   id_option_main  2747 non-null   object\n",
      " 1   option          2739 non-null   object\n",
      "dtypes: object(2)\n",
      "memory usage: 43.0+ KB\n"
     ]
    }
   ],
   "source": [
    "result.info()"
   ]
  },
  {
   "cell_type": "code",
   "execution_count": 23,
   "id": "fd81f116",
   "metadata": {},
   "outputs": [
    {
     "name": "stdout",
     "output_type": "stream",
     "text": [
      "<class 'pandas.core.frame.DataFrame'>\n",
      "Index: 2739 entries, 0 to 2746\n",
      "Data columns (total 2 columns):\n",
      " #   Column          Non-Null Count  Dtype \n",
      "---  ------          --------------  ----- \n",
      " 0   id_option_main  2739 non-null   object\n",
      " 1   option          2739 non-null   object\n",
      "dtypes: object(2)\n",
      "memory usage: 64.2+ KB\n"
     ]
    }
   ],
   "source": [
    "result = result.dropna()\n",
    "result.info()"
   ]
  },
  {
   "cell_type": "code",
   "execution_count": 24,
   "id": "ac98c57c",
   "metadata": {},
   "outputs": [
    {
     "data": {
      "text/plain": [
       "array(['รับสินค้าโดยไม่ต้องลงจากรถ', 'สั่งกลับบ้าน',\n",
       "       'นั่งรับประทานที่ร้าน', '\\ue033', 'บริการจัดส่ง', 'กาแฟ',\n",
       "       'อาหารสำเร็จ', 'อาหารเช้า', 'อาหารมื้อสาย', 'อาหารกลางวัน',\n",
       "       'อาหารค่ำ', 'ของหวาน', 'ที่นั่ง', 'ต้องนัดหมายล่วงหน้า', 'รับจอง',\n",
       "       'ที่จอดรถในพื้นที่', 'ที่จอดรถแบบไม่เสียค่าใช้จ่าย',\n",
       "       'กาแฟรสชาติเยี่ยม', 'ตัวเลือกชารสเลิศ',\n",
       "       'เหมาะกับการทำงานด้วยแล็ปท็อป', 'ห้องน้ำ', 'ความเป็นกันเอง',\n",
       "       'มาเป็นกลุ่ม', 'รับประทานอาหารคนเดียว', 'ทันสมัย', 'อบอุ่น',\n",
       "       'นักศึกษามหาวิทยาลัย', 'รับเฉพาะเงินสด', 'เมนูสำหรับเด็ก',\n",
       "       'เหมาะสำหรับเด็ก', 'อาหารจานด่วน', 'อาหารจานเล็ก',\n",
       "       'ที่จอดรถริมถนนแบบไม่เสียค่าใช้จ่าย', 'ที่นั่งกลางแจ้ง',\n",
       "       'ขนมหวานรสชาติเยี่ยม', 'จัดส่งโดยไม่สัมผัส', 'อาหารมื้อดึก',\n",
       "       'ที่จอดรถที่เก้าอี้รถเข็นสามารถใช้ได้', 'ขาจร', 'เงียบ',\n",
       "       'ทางเข้าสำหรับเก้าอี้รถเข็น', 'ที่นั่งสำหรับเก้าอี้รถเข็น',\n",
       "       'ระบบอำนวยความสะดวกช่วยเพิ่มการได้ยิน',\n",
       "       'ห้องน้ำรองรับเก้าอี้รถเข็น', 'การเปิดให้บริการที่หน้าร้าน',\n",
       "       'บริการจัดเลี้ยง', 'ห้องน้ำไม่แบ่งเพศ', 'Wi-Fi',\n",
       "       'พื้นที่ที่ยอมรับบุคคลข้ามเพศ', 'เหมาะสำหรับครอบครัว',\n",
       "       'เหมาะสำหรับ LGBTQ+', 'การชำระเงินผ่าน NFC บนอุปกรณ์เคลื่อนที่',\n",
       "       'ส่วนลดสำหรับครอบครัว', 'ส่วนลดสําหรับเด็ก',\n",
       "       'อนุญาตให้สุนัขอยู่ด้านนอก', 'เบียร์', 'แอลกอฮอล์',\n",
       "       'ระบุว่ามีเจ้าของเป็นผู้หญิง', 'ไวน์', 'เหล้าดีกรีสูง', 'มีบาร์',\n",
       "       'โรแมนติก', 'บัตรเครดิต', 'มีที่จอดจำนวนมาก',\n",
       "       'โรงจอดรถแบบไม่เสียค่าใช้จ่าย', 'ไดรฟ์ทรู', 'ค็อกเทล',\n",
       "       'ช่วงลดราคาเครื่องดื่ม', 'ช่วงลดราคาอาหาร',\n",
       "       'เก้าอี้ทานข้าวสำหรับเด็ก', 'แนะนำให้จองอาหารมื้อสาย',\n",
       "       'แนะนำให้จองอาหารกลางวัน', 'แนะนำให้จองอาหารค่ำ', 'โดยปกติต้องรอ',\n",
       "       'หาที่จอดค่อนข้างยาก', 'รายการไวน์ชั้นดี', 'อาหาร', 'หาที่จอดยาก',\n",
       "       'อาหารฮาลาล', 'ตัวเลือกเบียร์รสชาติเยี่ยม',\n",
       "       'ตัวเลือกสำหรับมังสวิรัติ', 'บัตรเดบิต', 'ต้อนรับสุนัข',\n",
       "       'อนุญาตให้นําสุนัขเข้าไปด้านใน', 'ที่จอดรถแบบเสียค่าใช้จ่าย',\n",
       "       'กีฬา', 'ดนตรีสด', 'ต้องจอง', 'มารับของที่ร้าน',\n",
       "       'การเลือกซื้อในร้านค้า', 'การจัดส่งวันเดียวกัน',\n",
       "       'แวะในช่วงเวลาสั้นๆ', 'อุปกรณ์อิเล็กทรอนิกส์', 'บุฟเฟ่ต์',\n",
       "       'การแสดงสด'], dtype=object)"
      ]
     },
     "execution_count": 24,
     "metadata": {},
     "output_type": "execute_result"
    }
   ],
   "source": [
    "result['option'].unique()"
   ]
  },
  {
   "cell_type": "code",
   "execution_count": 25,
   "id": "ac6f57bf",
   "metadata": {},
   "outputs": [],
   "source": [
    "result.to_csv('df_option_newclean.csv', index=False,encoding='utf-8-sig')"
   ]
  },
  {
   "cell_type": "code",
   "execution_count": null,
   "id": "e5415c9e",
   "metadata": {},
   "outputs": [],
   "source": []
  },
  {
   "cell_type": "code",
   "execution_count": 26,
   "id": "8b8f6ff2",
   "metadata": {},
   "outputs": [],
   "source": [
    "df_1 = pd.read_csv('df_1_review_clean.csv')\n",
    "df_2 = pd.read_csv('df_2_review_clean.csv')\n",
    "df_3 = pd.read_csv('df_3_review_clean.csv')"
   ]
  },
  {
   "cell_type": "code",
   "execution_count": 27,
   "id": "ac37702d",
   "metadata": {},
   "outputs": [],
   "source": [
    "result = pd.concat([df_1, df_3,  df_2], axis=0,ignore_index=True)"
   ]
  },
  {
   "cell_type": "code",
   "execution_count": 28,
   "id": "ab7395b5",
   "metadata": {},
   "outputs": [
    {
     "name": "stdout",
     "output_type": "stream",
     "text": [
      "<class 'pandas.core.frame.DataFrame'>\n",
      "RangeIndex: 3016 entries, 0 to 3015\n",
      "Data columns (total 4 columns):\n",
      " #   Column          Non-Null Count  Dtype  \n",
      "---  ------          --------------  -----  \n",
      " 0   id_review_main  2682 non-null   object \n",
      " 1   review_rating   2682 non-null   float64\n",
      " 2   review_text     2682 non-null   object \n",
      " 3   sentiment       2682 non-null   object \n",
      "dtypes: float64(1), object(3)\n",
      "memory usage: 94.4+ KB\n"
     ]
    }
   ],
   "source": [
    "result.info()"
   ]
  },
  {
   "cell_type": "code",
   "execution_count": 29,
   "id": "59a83003",
   "metadata": {},
   "outputs": [
    {
     "data": {
      "text/plain": [
       "id_review_main    334\n",
       "review_rating     334\n",
       "review_text       334\n",
       "sentiment         334\n",
       "dtype: int64"
      ]
     },
     "execution_count": 29,
     "metadata": {},
     "output_type": "execute_result"
    }
   ],
   "source": [
    "result.isnull().sum()"
   ]
  },
  {
   "cell_type": "code",
   "execution_count": 30,
   "id": "830ce898",
   "metadata": {},
   "outputs": [],
   "source": [
    "result = result.dropna()\n"
   ]
  },
  {
   "cell_type": "code",
   "execution_count": 31,
   "id": "d6b73964",
   "metadata": {},
   "outputs": [],
   "source": [
    "result.to_csv('df_review_newclean.csv', index=False,encoding='utf-8-sig')"
   ]
  }
 ],
 "metadata": {
  "kernelspec": {
   "display_name": "scrap",
   "language": "python",
   "name": "python3"
  },
  "language_info": {
   "codemirror_mode": {
    "name": "ipython",
    "version": 3
   },
   "file_extension": ".py",
   "mimetype": "text/x-python",
   "name": "python",
   "nbconvert_exporter": "python",
   "pygments_lexer": "ipython3",
   "version": "3.10.16"
  }
 },
 "nbformat": 4,
 "nbformat_minor": 5
}
