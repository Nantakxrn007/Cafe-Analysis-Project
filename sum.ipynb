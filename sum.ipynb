{
 "cells": [
  {
   "cell_type": "code",
   "execution_count": 1,
   "id": "0ff0f436",
   "metadata": {},
   "outputs": [],
   "source": [
    "import pandas as pd\n",
    "import re \n",
    "import numpy as np "
   ]
  },
  {
   "cell_type": "code",
   "execution_count": 4,
   "id": "c358ede4",
   "metadata": {},
   "outputs": [],
   "source": [
    "df_1 = pd.read_csv('clean/df_1_main_clean.csv')\n",
    "df_2 = pd.read_csv('clean/df_2_main_clean.csv')\n",
    "df_3 = pd.read_csv('clean/df_3_main_clean.csv')"
   ]
  },
  {
   "cell_type": "code",
   "execution_count": 8,
   "id": "8179839f",
   "metadata": {},
   "outputs": [
    {
     "data": {
      "text/plain": [
       "True"
      ]
     },
     "execution_count": 8,
     "metadata": {},
     "output_type": "execute_result"
    }
   ],
   "source": [
    "len(df_1.columns) == len(df_2.columns) == len(df_3.columns) "
   ]
  },
  {
   "cell_type": "code",
   "execution_count": 18,
   "id": "44b098ea",
   "metadata": {},
   "outputs": [],
   "source": [
    "result = pd.concat([df_1, df_3,  df_2], axis=0,ignore_index=True)"
   ]
  },
  {
   "cell_type": "code",
   "execution_count": 19,
   "id": "630ccc42",
   "metadata": {},
   "outputs": [],
   "source": [
    "result.to_csv('df_main_clean.csv', index=False,encoding='utf-8-sig')"
   ]
  },
  {
   "cell_type": "code",
   "execution_count": null,
   "id": "af91d8ab",
   "metadata": {},
   "outputs": [],
   "source": []
  },
  {
   "cell_type": "code",
   "execution_count": 43,
   "id": "3af5a96b",
   "metadata": {},
   "outputs": [],
   "source": [
    "df_1 = pd.read_csv('clean/df_1_ci_clean.csv')\n",
    "df_2 = pd.read_csv('clean/df_2_ci_clean.csv')\n",
    "df_3 = pd.read_csv('clean/df_3_ci_clean.csv')"
   ]
  },
  {
   "cell_type": "code",
   "execution_count": 44,
   "id": "b430f5c3",
   "metadata": {},
   "outputs": [
    {
     "data": {
      "text/plain": [
       "True"
      ]
     },
     "execution_count": 44,
     "metadata": {},
     "output_type": "execute_result"
    }
   ],
   "source": [
    "len(df_1.columns) == len(df_2.columns) == len(df_3.columns) "
   ]
  },
  {
   "cell_type": "code",
   "execution_count": 45,
   "id": "2c1b34f1",
   "metadata": {},
   "outputs": [],
   "source": [
    "result = pd.concat([df_1, df_3,  df_2], axis=0,ignore_index=True)"
   ]
  },
  {
   "cell_type": "code",
   "execution_count": 46,
   "id": "fc908771",
   "metadata": {},
   "outputs": [
    {
     "name": "stdout",
     "output_type": "stream",
     "text": [
      "<class 'pandas.core.frame.DataFrame'>\n",
      "RangeIndex: 8668 entries, 0 to 8667\n",
      "Data columns (total 5 columns):\n",
      " #   Column            Non-Null Count  Dtype  \n",
      "---  ------            --------------  -----  \n",
      " 0   id_customer_main  8564 non-null   object \n",
      " 1   customer          8564 non-null   object \n",
      " 2   customer_day      8564 non-null   object \n",
      " 3   time              8551 non-null   object \n",
      " 4   percent           8551 non-null   float64\n",
      "dtypes: float64(1), object(4)\n",
      "memory usage: 338.7+ KB\n"
     ]
    }
   ],
   "source": [
    "result.info()"
   ]
  },
  {
   "cell_type": "code",
   "execution_count": 47,
   "id": "3ead9fd3",
   "metadata": {},
   "outputs": [
    {
     "data": {
      "text/plain": [
       "id_customer_main    104\n",
       "customer            104\n",
       "customer_day        104\n",
       "time                117\n",
       "percent             117\n",
       "dtype: int64"
      ]
     },
     "execution_count": 47,
     "metadata": {},
     "output_type": "execute_result"
    }
   ],
   "source": [
    "result.isnull().sum()"
   ]
  },
  {
   "cell_type": "code",
   "execution_count": 48,
   "id": "dbcaf835",
   "metadata": {},
   "outputs": [
    {
     "name": "stdout",
     "output_type": "stream",
     "text": [
      "<class 'pandas.core.frame.DataFrame'>\n",
      "Index: 8551 entries, 0 to 8666\n",
      "Data columns (total 5 columns):\n",
      " #   Column            Non-Null Count  Dtype  \n",
      "---  ------            --------------  -----  \n",
      " 0   id_customer_main  8551 non-null   object \n",
      " 1   customer          8551 non-null   object \n",
      " 2   customer_day      8551 non-null   object \n",
      " 3   time              8551 non-null   object \n",
      " 4   percent           8551 non-null   float64\n",
      "dtypes: float64(1), object(4)\n",
      "memory usage: 400.8+ KB\n"
     ]
    }
   ],
   "source": [
    "result = result.dropna()\n",
    "result.info()"
   ]
  },
  {
   "cell_type": "code",
   "execution_count": 49,
   "id": "de6843ea",
   "metadata": {},
   "outputs": [],
   "source": [
    "result.to_csv('df_ci_clean.csv', index=False,encoding='utf-8-sig')"
   ]
  },
  {
   "cell_type": "code",
   "execution_count": null,
   "id": "f1f8732b",
   "metadata": {},
   "outputs": [],
   "source": []
  },
  {
   "cell_type": "code",
   "execution_count": 50,
   "id": "ba4af256",
   "metadata": {},
   "outputs": [],
   "source": [
    "df_1 = pd.read_csv('clean/df_1_open_close_clean.csv')\n",
    "df_2 = pd.read_csv('clean/df_2_open_close_clean.csv')\n",
    "df_3 = pd.read_csv('clean/df_3_open_close_clean.csv')"
   ]
  },
  {
   "cell_type": "code",
   "execution_count": 51,
   "id": "56c55e84",
   "metadata": {},
   "outputs": [],
   "source": [
    "result = pd.concat([df_1, df_3,  df_2], axis=0,ignore_index=True)"
   ]
  },
  {
   "cell_type": "code",
   "execution_count": 52,
   "id": "f627a475",
   "metadata": {},
   "outputs": [
    {
     "name": "stdout",
     "output_type": "stream",
     "text": [
      "<class 'pandas.core.frame.DataFrame'>\n",
      "RangeIndex: 1088 entries, 0 to 1087\n",
      "Data columns (total 6 columns):\n",
      " #   Column              Non-Null Count  Dtype  \n",
      "---  ------              --------------  -----  \n",
      " 0   id_open_close_main  1071 non-null   object \n",
      " 1   day_open_close      1071 non-null   object \n",
      " 2   open                1071 non-null   float64\n",
      " 3   close               1071 non-null   float64\n",
      " 4   open_time           1071 non-null   object \n",
      " 5   open_close          1071 non-null   object \n",
      "dtypes: float64(2), object(4)\n",
      "memory usage: 51.1+ KB\n"
     ]
    }
   ],
   "source": [
    "result.info()"
   ]
  },
  {
   "cell_type": "code",
   "execution_count": 53,
   "id": "e8d24000",
   "metadata": {},
   "outputs": [],
   "source": [
    "result = result.dropna()"
   ]
  },
  {
   "cell_type": "code",
   "execution_count": 54,
   "id": "de77be2f",
   "metadata": {},
   "outputs": [
    {
     "data": {
      "text/plain": [
       "id_open_close_main    0\n",
       "day_open_close        0\n",
       "open                  0\n",
       "close                 0\n",
       "open_time             0\n",
       "open_close            0\n",
       "dtype: int64"
      ]
     },
     "execution_count": 54,
     "metadata": {},
     "output_type": "execute_result"
    }
   ],
   "source": [
    "result.isnull().sum()"
   ]
  },
  {
   "cell_type": "code",
   "execution_count": 55,
   "id": "6ae4ab1c",
   "metadata": {},
   "outputs": [],
   "source": [
    "result.to_csv('df_open_close_clean.csv', index=False,encoding='utf-8-sig')"
   ]
  },
  {
   "cell_type": "code",
   "execution_count": null,
   "id": "a165af8a",
   "metadata": {},
   "outputs": [],
   "source": []
  },
  {
   "cell_type": "code",
   "execution_count": 70,
   "id": "fc370793",
   "metadata": {},
   "outputs": [],
   "source": [
    "df_1 = pd.read_csv('clean/df_1_option_clean.csv')\n",
    "df_2 = pd.read_csv('clean/df_2_option_clean.csv')\n",
    "df_3 = pd.read_csv('clean/df_3_option_clean.csv')"
   ]
  },
  {
   "cell_type": "code",
   "execution_count": 71,
   "id": "194ef324",
   "metadata": {},
   "outputs": [],
   "source": [
    "result = pd.concat([df_1, df_3,  df_2], axis=0,ignore_index=True)"
   ]
  },
  {
   "cell_type": "code",
   "execution_count": 72,
   "id": "d3e659d8",
   "metadata": {},
   "outputs": [
    {
     "data": {
      "text/html": [
       "<div>\n",
       "<style scoped>\n",
       "    .dataframe tbody tr th:only-of-type {\n",
       "        vertical-align: middle;\n",
       "    }\n",
       "\n",
       "    .dataframe tbody tr th {\n",
       "        vertical-align: top;\n",
       "    }\n",
       "\n",
       "    .dataframe thead th {\n",
       "        text-align: right;\n",
       "    }\n",
       "</style>\n",
       "<table border=\"1\" class=\"dataframe\">\n",
       "  <thead>\n",
       "    <tr style=\"text-align: right;\">\n",
       "      <th></th>\n",
       "      <th>id_option_main</th>\n",
       "      <th>option</th>\n",
       "    </tr>\n",
       "  </thead>\n",
       "  <tbody>\n",
       "    <tr>\n",
       "      <th>0</th>\n",
       "      <td>option_1</td>\n",
       "      <td>ที่นั่งกลางแจ้ง</td>\n",
       "    </tr>\n",
       "    <tr>\n",
       "      <th>1</th>\n",
       "      <td>option_1</td>\n",
       "      <td>บริการจัดส่ง</td>\n",
       "    </tr>\n",
       "    <tr>\n",
       "      <th>2</th>\n",
       "      <td>option_1</td>\n",
       "      <td>สั่งกลับบ้าน</td>\n",
       "    </tr>\n",
       "    <tr>\n",
       "      <th>3</th>\n",
       "      <td>option_1</td>\n",
       "      <td>นั่งรับประทานที่ร้าน</td>\n",
       "    </tr>\n",
       "    <tr>\n",
       "      <th>4</th>\n",
       "      <td>option_1</td>\n",
       "      <td>กาแฟรสชาติเยี่ยม</td>\n",
       "    </tr>\n",
       "    <tr>\n",
       "      <th>...</th>\n",
       "      <td>...</td>\n",
       "      <td>...</td>\n",
       "    </tr>\n",
       "    <tr>\n",
       "      <th>3067</th>\n",
       "      <td>option_170</td>\n",
       "      <td>อบอุ่น</td>\n",
       "    </tr>\n",
       "    <tr>\n",
       "      <th>3068</th>\n",
       "      <td>option_170</td>\n",
       "      <td>ขาจร</td>\n",
       "    </tr>\n",
       "    <tr>\n",
       "      <th>3069</th>\n",
       "      <td>option_170</td>\n",
       "      <td>มาเป็นกลุ่ม</td>\n",
       "    </tr>\n",
       "    <tr>\n",
       "      <th>3070</th>\n",
       "      <td>option_170</td>\n",
       "      <td>เหมาะสำหรับเด็ก</td>\n",
       "    </tr>\n",
       "    <tr>\n",
       "      <th>3071</th>\n",
       "      <td>option_170</td>\n",
       "      <td>มีที่จอดจำนวนมาก</td>\n",
       "    </tr>\n",
       "  </tbody>\n",
       "</table>\n",
       "<p>3072 rows × 2 columns</p>\n",
       "</div>"
      ],
      "text/plain": [
       "     id_option_main                option\n",
       "0          option_1       ที่นั่งกลางแจ้ง\n",
       "1          option_1          บริการจัดส่ง\n",
       "2          option_1          สั่งกลับบ้าน\n",
       "3          option_1  นั่งรับประทานที่ร้าน\n",
       "4          option_1      กาแฟรสชาติเยี่ยม\n",
       "...             ...                   ...\n",
       "3067     option_170                อบอุ่น\n",
       "3068     option_170                  ขาจร\n",
       "3069     option_170           มาเป็นกลุ่ม\n",
       "3070     option_170       เหมาะสำหรับเด็ก\n",
       "3071     option_170      มีที่จอดจำนวนมาก\n",
       "\n",
       "[3072 rows x 2 columns]"
      ]
     },
     "execution_count": 72,
     "metadata": {},
     "output_type": "execute_result"
    }
   ],
   "source": [
    "result"
   ]
  },
  {
   "cell_type": "code",
   "execution_count": 73,
   "id": "d7dd778c",
   "metadata": {},
   "outputs": [
    {
     "name": "stdout",
     "output_type": "stream",
     "text": [
      "<class 'pandas.core.frame.DataFrame'>\n",
      "RangeIndex: 3072 entries, 0 to 3071\n",
      "Data columns (total 2 columns):\n",
      " #   Column          Non-Null Count  Dtype \n",
      "---  ------          --------------  ----- \n",
      " 0   id_option_main  3072 non-null   object\n",
      " 1   option          3053 non-null   object\n",
      "dtypes: object(2)\n",
      "memory usage: 48.1+ KB\n"
     ]
    }
   ],
   "source": [
    "result.info()"
   ]
  },
  {
   "cell_type": "code",
   "execution_count": 74,
   "id": "fd81f116",
   "metadata": {},
   "outputs": [
    {
     "name": "stdout",
     "output_type": "stream",
     "text": [
      "<class 'pandas.core.frame.DataFrame'>\n",
      "Index: 3053 entries, 0 to 3071\n",
      "Data columns (total 2 columns):\n",
      " #   Column          Non-Null Count  Dtype \n",
      "---  ------          --------------  ----- \n",
      " 0   id_option_main  3053 non-null   object\n",
      " 1   option          3053 non-null   object\n",
      "dtypes: object(2)\n",
      "memory usage: 71.6+ KB\n"
     ]
    }
   ],
   "source": [
    "result = result.dropna()\n",
    "result.info()"
   ]
  },
  {
   "cell_type": "code",
   "execution_count": 75,
   "id": "ac98c57c",
   "metadata": {},
   "outputs": [
    {
     "data": {
      "text/plain": [
       "array(['ที่นั่งกลางแจ้ง', 'บริการจัดส่ง', 'สั่งกลับบ้าน',\n",
       "       'นั่งรับประทานที่ร้าน', 'กาแฟรสชาติเยี่ยม', 'ขนมหวานรสชาติเยี่ยม',\n",
       "       'ตัวเลือกชารสเลิศ', 'ตัวเลือกเบียร์รสชาติเยี่ยม', 'อาหารค่ำ',\n",
       "       'รับประทานอาหารคนเดียว', 'เหมาะกับการทำงานด้วยแล็ปท็อป', 'กาแฟ',\n",
       "       'เบียร์', 'ไวน์', 'อาหารจานเล็ก', 'อาหารมื้อดึก', 'แอลกอฮอล์',\n",
       "       'อาหารเช้า', 'อาหารมื้อสาย', 'อาหารกลางวัน', 'บริการจัดเลี้ยง',\n",
       "       'ของหวาน', 'ที่นั่ง', 'ห้องน้ำ', 'ความเป็นกันเอง', 'ทันสมัย',\n",
       "       'โรแมนติก', 'อบอุ่น', 'ขาจร', 'นักศึกษามหาวิทยาลัย',\n",
       "       'พื้นที่ที่ยอมรับบุคคลข้ามเพศ', 'มาเป็นกลุ่ม',\n",
       "       'เหมาะสำหรับครอบครัว', 'เหมาะสำหรับ LGBTQ+', 'รับจอง',\n",
       "       'บัตรเครดิต', 'บัตรเดบิต', 'เมนูสำหรับเด็ก', 'เหมาะสำหรับเด็ก',\n",
       "       'มีที่จอดจำนวนมาก', 'ที่จอดรถแบบไม่เสียค่าใช้จ่าย',\n",
       "       'ที่จอดรถริมถนนแบบไม่เสียค่าใช้จ่าย', 'ที่จอดรถแบบเสียค่าใช้จ่าย',\n",
       "       'อาหารจานด่วน', 'เงียบ', 'เก้าอี้ทานข้าวสำหรับเด็ก',\n",
       "       'จัดส่งโดยไม่สัมผัส', 'หาที่จอดค่อนข้างยาก',\n",
       "       'รับสินค้าโดยไม่ต้องลงจากรถ', 'ไดรฟ์ทรู', 'ค็อกเทล',\n",
       "       'ช่วงลดราคาเครื่องดื่ม', 'ช่วงลดราคาอาหาร', 'ต้อนรับสุนัข',\n",
       "       'อนุญาตให้นําสุนัขเข้าไปด้านใน', 'อนุญาตให้สุนัขอยู่ด้านนอก',\n",
       "       'Wi-Fi', 'รับเฉพาะเงินสด', 'ระบุว่ามีเจ้าของเป็นผู้หญิง',\n",
       "       'ทางเข้าสำหรับเก้าอี้รถเข็น',\n",
       "       'ที่จอดรถที่เก้าอี้รถเข็นสามารถใช้ได้',\n",
       "       'ที่นั่งสำหรับเก้าอี้รถเข็น', 'ค็อกเทลรสชาติเยี่ยม',\n",
       "       'เหล้าดีกรีสูง', 'มีบาร์', 'หรูหรา', 'เหมาะกับกิจกรรมวันเกิดเด็ก',\n",
       "       'ตัวเลือกสำหรับมังสวิรัติ', 'อาหารออร์แกนิก',\n",
       "       'การชำระเงินผ่าน NFC บนอุปกรณ์เคลื่อนที่', 'ที่จอดรถในพื้นที่',\n",
       "       'การเปิดให้บริการที่หน้าร้าน', 'ให้บริการอาหารวีแกน',\n",
       "       'ห้องน้ำรองรับเก้าอี้รถเข็น', 'ดนตรีสด',\n",
       "       'ระบบอำนวยความสะดวกช่วยเพิ่มการได้ยิน', 'การแสดงสด',\n",
       "       'ห้องน้ำไม่แบ่งเพศ', 'รายการไวน์ชั้นดี', 'มารับของที่ร้าน',\n",
       "       'การจัดส่งวันเดียวกัน', 'แวะในช่วงเวลาสั้นๆ', 'โดยปกติต้องรอ',\n",
       "       'ต้องจอง', 'โรงจอดรถแบบไม่เสียค่าใช้จ่าย', 'การเลือกซื้อในร้านค้า'],\n",
       "      dtype=object)"
      ]
     },
     "execution_count": 75,
     "metadata": {},
     "output_type": "execute_result"
    }
   ],
   "source": [
    "result['option'].unique()"
   ]
  },
  {
   "cell_type": "code",
   "execution_count": 76,
   "id": "ac6f57bf",
   "metadata": {},
   "outputs": [],
   "source": [
    "result.to_csv('df_option_clean.csv', index=False,encoding='utf-8-sig')"
   ]
  },
  {
   "cell_type": "code",
   "execution_count": null,
   "id": "e5415c9e",
   "metadata": {},
   "outputs": [],
   "source": []
  },
  {
   "cell_type": "code",
   "execution_count": 63,
   "id": "8b8f6ff2",
   "metadata": {},
   "outputs": [],
   "source": [
    "df_1 = pd.read_csv('clean/df_1_review_clean.csv')\n",
    "df_2 = pd.read_csv('clean/df_2_review_clean.csv')\n",
    "df_3 = pd.read_csv('clean/df_3_review_clean.csv')"
   ]
  },
  {
   "cell_type": "code",
   "execution_count": 64,
   "id": "ac37702d",
   "metadata": {},
   "outputs": [],
   "source": [
    "result = pd.concat([df_1, df_3,  df_2], axis=0,ignore_index=True)"
   ]
  },
  {
   "cell_type": "code",
   "execution_count": 65,
   "id": "ab7395b5",
   "metadata": {},
   "outputs": [
    {
     "name": "stdout",
     "output_type": "stream",
     "text": [
      "<class 'pandas.core.frame.DataFrame'>\n",
      "RangeIndex: 2772 entries, 0 to 2771\n",
      "Data columns (total 4 columns):\n",
      " #   Column          Non-Null Count  Dtype  \n",
      "---  ------          --------------  -----  \n",
      " 0   id_review_main  2747 non-null   object \n",
      " 1   review_rating   2747 non-null   float64\n",
      " 2   review_text     2747 non-null   object \n",
      " 3   sentiment       2747 non-null   object \n",
      "dtypes: float64(1), object(3)\n",
      "memory usage: 86.8+ KB\n"
     ]
    }
   ],
   "source": [
    "result.info()"
   ]
  },
  {
   "cell_type": "code",
   "execution_count": 66,
   "id": "59a83003",
   "metadata": {},
   "outputs": [
    {
     "data": {
      "text/plain": [
       "id_review_main    25\n",
       "review_rating     25\n",
       "review_text       25\n",
       "sentiment         25\n",
       "dtype: int64"
      ]
     },
     "execution_count": 66,
     "metadata": {},
     "output_type": "execute_result"
    }
   ],
   "source": [
    "result.isnull().sum()"
   ]
  },
  {
   "cell_type": "code",
   "execution_count": 67,
   "id": "830ce898",
   "metadata": {},
   "outputs": [],
   "source": [
    "result = result.dropna()\n"
   ]
  },
  {
   "cell_type": "code",
   "execution_count": null,
   "id": "d6b73964",
   "metadata": {},
   "outputs": [],
   "source": [
    "result.to_csv('df_review_clean.csv', index=False,encoding='utf-8-sig')"
   ]
  }
 ],
 "metadata": {
  "kernelspec": {
   "display_name": "scrap",
   "language": "python",
   "name": "python3"
  },
  "language_info": {
   "codemirror_mode": {
    "name": "ipython",
    "version": 3
   },
   "file_extension": ".py",
   "mimetype": "text/x-python",
   "name": "python",
   "nbconvert_exporter": "python",
   "pygments_lexer": "ipython3",
   "version": "3.10.16"
  }
 },
 "nbformat": 4,
 "nbformat_minor": 5
}
